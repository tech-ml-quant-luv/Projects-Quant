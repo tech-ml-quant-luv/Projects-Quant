{
 "cells": [
  {
   "cell_type": "code",
   "execution_count": 2,
   "id": "4d721a77",
   "metadata": {},
   "outputs": [
    {
     "name": "stdout",
     "output_type": "stream",
     "text": [
      "CUDA Available: True\n",
      "Gym version: 0.29.1\n",
      "SB3 Test Agent Init: <class 'stable_baselines3.ppo.ppo.PPO'>\n"
     ]
    }
   ],
   "source": [
    "import torch\n",
    "import gymnasium as gym\n",
    "from stable_baselines3 import PPO\n",
    "\n",
    "print(\"CUDA Available:\", torch.cuda.is_available())\n",
    "print(\"Gym version:\", gym.__version__)\n",
    "print(\"SB3 Test Agent Init:\", PPO)\n"
   ]
  },
  {
   "cell_type": "code",
   "execution_count": 4,
   "id": "1f1f2013",
   "metadata": {},
   "outputs": [
    {
     "data": {
      "application/vnd.microsoft.datawrangler.viewer.v0+json": {
       "columns": [
        {
         "name": "Datetime",
         "rawType": "datetime64[ns, UTC]",
         "type": "unknown"
        },
        {
         "name": "Open",
         "rawType": "float64",
         "type": "float"
        },
        {
         "name": "High",
         "rawType": "float64",
         "type": "float"
        },
        {
         "name": "Low",
         "rawType": "float64",
         "type": "float"
        },
        {
         "name": "Close",
         "rawType": "float64",
         "type": "float"
        },
        {
         "name": "Volume",
         "rawType": "int64",
         "type": "integer"
        }
       ],
       "ref": "b95ebedb-9600-4708-88ec-656a36690469",
       "rows": [
        [
         "2025-06-01 00:00:00+00:00",
         "2529.181640625",
         "2529.325927734375",
         "2527.150634765625",
         "2527.150634765625",
         "0"
        ],
        [
         "2025-06-01 00:05:00+00:00",
         "2526.4697265625",
         "2527.231201171875",
         "2526.4697265625",
         "2526.647705078125",
         "69450752"
        ],
        [
         "2025-06-01 00:10:00+00:00",
         "2527.43359375",
         "2527.43359375",
         "2519.980224609375",
         "2519.980224609375",
         "0"
        ],
        [
         "2025-06-01 00:15:00+00:00",
         "2520.643310546875",
         "2520.643310546875",
         "2518.642333984375",
         "2519.07958984375",
         "31013888"
        ],
        [
         "2025-06-01 00:20:00+00:00",
         "2520.566650390625",
         "2523.027099609375",
         "2519.724365234375",
         "2519.724365234375",
         "591410176"
        ]
       ],
       "shape": {
        "columns": 5,
        "rows": 5
       }
      },
      "text/html": [
       "<div>\n",
       "<style scoped>\n",
       "    .dataframe tbody tr th:only-of-type {\n",
       "        vertical-align: middle;\n",
       "    }\n",
       "\n",
       "    .dataframe tbody tr th {\n",
       "        vertical-align: top;\n",
       "    }\n",
       "\n",
       "    .dataframe thead th {\n",
       "        text-align: right;\n",
       "    }\n",
       "</style>\n",
       "<table border=\"1\" class=\"dataframe\">\n",
       "  <thead>\n",
       "    <tr style=\"text-align: right;\">\n",
       "      <th></th>\n",
       "      <th>Open</th>\n",
       "      <th>High</th>\n",
       "      <th>Low</th>\n",
       "      <th>Close</th>\n",
       "      <th>Volume</th>\n",
       "    </tr>\n",
       "    <tr>\n",
       "      <th>Datetime</th>\n",
       "      <th></th>\n",
       "      <th></th>\n",
       "      <th></th>\n",
       "      <th></th>\n",
       "      <th></th>\n",
       "    </tr>\n",
       "  </thead>\n",
       "  <tbody>\n",
       "    <tr>\n",
       "      <th>2025-06-01 00:00:00+00:00</th>\n",
       "      <td>2529.181641</td>\n",
       "      <td>2529.325928</td>\n",
       "      <td>2527.150635</td>\n",
       "      <td>2527.150635</td>\n",
       "      <td>0</td>\n",
       "    </tr>\n",
       "    <tr>\n",
       "      <th>2025-06-01 00:05:00+00:00</th>\n",
       "      <td>2526.469727</td>\n",
       "      <td>2527.231201</td>\n",
       "      <td>2526.469727</td>\n",
       "      <td>2526.647705</td>\n",
       "      <td>69450752</td>\n",
       "    </tr>\n",
       "    <tr>\n",
       "      <th>2025-06-01 00:10:00+00:00</th>\n",
       "      <td>2527.433594</td>\n",
       "      <td>2527.433594</td>\n",
       "      <td>2519.980225</td>\n",
       "      <td>2519.980225</td>\n",
       "      <td>0</td>\n",
       "    </tr>\n",
       "    <tr>\n",
       "      <th>2025-06-01 00:15:00+00:00</th>\n",
       "      <td>2520.643311</td>\n",
       "      <td>2520.643311</td>\n",
       "      <td>2518.642334</td>\n",
       "      <td>2519.079590</td>\n",
       "      <td>31013888</td>\n",
       "    </tr>\n",
       "    <tr>\n",
       "      <th>2025-06-01 00:20:00+00:00</th>\n",
       "      <td>2520.566650</td>\n",
       "      <td>2523.027100</td>\n",
       "      <td>2519.724365</td>\n",
       "      <td>2519.724365</td>\n",
       "      <td>591410176</td>\n",
       "    </tr>\n",
       "  </tbody>\n",
       "</table>\n",
       "</div>"
      ],
      "text/plain": [
       "                                  Open         High          Low        Close  \\\n",
       "Datetime                                                                        \n",
       "2025-06-01 00:00:00+00:00  2529.181641  2529.325928  2527.150635  2527.150635   \n",
       "2025-06-01 00:05:00+00:00  2526.469727  2527.231201  2526.469727  2526.647705   \n",
       "2025-06-01 00:10:00+00:00  2527.433594  2527.433594  2519.980225  2519.980225   \n",
       "2025-06-01 00:15:00+00:00  2520.643311  2520.643311  2518.642334  2519.079590   \n",
       "2025-06-01 00:20:00+00:00  2520.566650  2523.027100  2519.724365  2519.724365   \n",
       "\n",
       "                              Volume  \n",
       "Datetime                              \n",
       "2025-06-01 00:00:00+00:00          0  \n",
       "2025-06-01 00:05:00+00:00   69450752  \n",
       "2025-06-01 00:10:00+00:00          0  \n",
       "2025-06-01 00:15:00+00:00   31013888  \n",
       "2025-06-01 00:20:00+00:00  591410176  "
      ]
     },
     "execution_count": 4,
     "metadata": {},
     "output_type": "execute_result"
    }
   ],
   "source": [
    "import yfinance as yf\n",
    "start_date = '2025-06-01'\n",
    "end_date = '2025-07-30'\n",
    "# start_date = '2025-07-14'\n",
    "# end_date = '2025-07-30'\n",
    "\n",
    "\n",
    "# Define the ticker symbol (you can change it to 'AAPL', 'BTC-USD', 'TSLA', etc.)\n",
    "ticker_symbol = 'ETH-USD'\n",
    "ticker = yf.Ticker(ticker_symbol)\n",
    "df = ticker.history(start=start_date, end = end_date, interval='5m')\n",
    "df.drop(columns=[\"Stock Splits\", \"Dividends\"], inplace=True)\n",
    "df.to_csv(f'./data/{ticker_symbol}_test_data.csv')\n",
    "df.head()\n"
   ]
  }
 ],
 "metadata": {
  "kernelspec": {
   "display_name": "rltrading",
   "language": "python",
   "name": "python3"
  },
  "language_info": {
   "codemirror_mode": {
    "name": "ipython",
    "version": 3
   },
   "file_extension": ".py",
   "mimetype": "text/x-python",
   "name": "python",
   "nbconvert_exporter": "python",
   "pygments_lexer": "ipython3",
   "version": "3.12.10"
  }
 },
 "nbformat": 4,
 "nbformat_minor": 5
}
